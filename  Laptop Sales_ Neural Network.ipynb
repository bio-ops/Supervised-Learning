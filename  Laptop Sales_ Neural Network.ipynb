{
 "cells": [
  {
   "cell_type": "code",
   "execution_count": 1,
   "id": "994e554c",
   "metadata": {},
   "outputs": [
    {
     "data": {
      "text/html": [
       "<div>\n",
       "<style scoped>\n",
       "    .dataframe tbody tr th:only-of-type {\n",
       "        vertical-align: middle;\n",
       "    }\n",
       "\n",
       "    .dataframe tbody tr th {\n",
       "        vertical-align: top;\n",
       "    }\n",
       "\n",
       "    .dataframe thead th {\n",
       "        text-align: right;\n",
       "    }\n",
       "</style>\n",
       "<table border=\"1\" class=\"dataframe\">\n",
       "  <thead>\n",
       "    <tr style=\"text-align: right;\">\n",
       "      <th></th>\n",
       "      <th>Configuration Index</th>\n",
       "      <th>RAM (GB)</th>\n",
       "      <th>Processor Speeds (GHz)</th>\n",
       "      <th>Integrated Wireless</th>\n",
       "      <th>HD Size (GB)</th>\n",
       "      <th>Bundled Applications</th>\n",
       "      <th>Retail Price</th>\n",
       "    </tr>\n",
       "  </thead>\n",
       "  <tbody>\n",
       "    <tr>\n",
       "      <th>0</th>\n",
       "      <td>290</td>\n",
       "      <td>1</td>\n",
       "      <td>1.5</td>\n",
       "      <td>Yes</td>\n",
       "      <td>40</td>\n",
       "      <td>No</td>\n",
       "      <td>287</td>\n",
       "    </tr>\n",
       "    <tr>\n",
       "      <th>1</th>\n",
       "      <td>208</td>\n",
       "      <td>2</td>\n",
       "      <td>1.5</td>\n",
       "      <td>No</td>\n",
       "      <td>300</td>\n",
       "      <td>No</td>\n",
       "      <td>329</td>\n",
       "    </tr>\n",
       "    <tr>\n",
       "      <th>2</th>\n",
       "      <td>292</td>\n",
       "      <td>1</td>\n",
       "      <td>1.5</td>\n",
       "      <td>Yes</td>\n",
       "      <td>80</td>\n",
       "      <td>No</td>\n",
       "      <td>315</td>\n",
       "    </tr>\n",
       "    <tr>\n",
       "      <th>3</th>\n",
       "      <td>342</td>\n",
       "      <td>2</td>\n",
       "      <td>1.5</td>\n",
       "      <td>Yes</td>\n",
       "      <td>120</td>\n",
       "      <td>No</td>\n",
       "      <td>357</td>\n",
       "    </tr>\n",
       "    <tr>\n",
       "      <th>4</th>\n",
       "      <td>304</td>\n",
       "      <td>1</td>\n",
       "      <td>1.5</td>\n",
       "      <td>No</td>\n",
       "      <td>300</td>\n",
       "      <td>No</td>\n",
       "      <td>357</td>\n",
       "    </tr>\n",
       "  </tbody>\n",
       "</table>\n",
       "</div>"
      ],
      "text/plain": [
       "   Configuration Index  RAM (GB)  Processor Speeds (GHz) Integrated Wireless  \\\n",
       "0                  290         1                     1.5                 Yes   \n",
       "1                  208         2                     1.5                  No   \n",
       "2                  292         1                     1.5                 Yes   \n",
       "3                  342         2                     1.5                 Yes   \n",
       "4                  304         1                     1.5                  No   \n",
       "\n",
       "   HD Size (GB) Bundled Applications  Retail Price  \n",
       "0            40                   No           287  \n",
       "1           300                   No           329  \n",
       "2            80                   No           315  \n",
       "3           120                   No           357  \n",
       "4           300                   No           357  "
      ]
     },
     "execution_count": 1,
     "metadata": {},
     "output_type": "execute_result"
    }
   ],
   "source": [
    "# Week 3_laptop sales_nerual network\n",
    "# Import pandas library\n",
    "\n",
    "import pandas as pd\n",
    "sales = pd.read_csv('/Users/babs/Desktop/MBA/Data Mining/LaptopSales.csv')\n",
    "sales.head()"
   ]
  },
  {
   "cell_type": "code",
   "execution_count": 2,
   "id": "5366dadc",
   "metadata": {},
   "outputs": [
    {
     "data": {
      "text/plain": [
       "Configuration Index         int64\n",
       "RAM (GB)                    int64\n",
       "Processor Speeds (GHz)    float64\n",
       "Integrated Wireless        object\n",
       "HD Size (GB)                int64\n",
       "Bundled Applications       object\n",
       "Retail Price                int64\n",
       "dtype: object"
      ]
     },
     "execution_count": 2,
     "metadata": {},
     "output_type": "execute_result"
    }
   ],
   "source": [
    "sales.dtypes"
   ]
  },
  {
   "cell_type": "code",
   "execution_count": 3,
   "id": "17ee792e",
   "metadata": {},
   "outputs": [
    {
     "data": {
      "text/html": [
       "<div>\n",
       "<style scoped>\n",
       "    .dataframe tbody tr th:only-of-type {\n",
       "        vertical-align: middle;\n",
       "    }\n",
       "\n",
       "    .dataframe tbody tr th {\n",
       "        vertical-align: top;\n",
       "    }\n",
       "\n",
       "    .dataframe thead th {\n",
       "        text-align: right;\n",
       "    }\n",
       "</style>\n",
       "<table border=\"1\" class=\"dataframe\">\n",
       "  <thead>\n",
       "    <tr style=\"text-align: right;\">\n",
       "      <th></th>\n",
       "      <th>Configuration Index</th>\n",
       "      <th>RAM (GB)</th>\n",
       "      <th>Processor Speeds (GHz)</th>\n",
       "      <th>HD Size (GB)</th>\n",
       "      <th>Retail Price</th>\n",
       "    </tr>\n",
       "  </thead>\n",
       "  <tbody>\n",
       "    <tr>\n",
       "      <th>count</th>\n",
       "      <td>25649.000000</td>\n",
       "      <td>25649.000000</td>\n",
       "      <td>25649.000000</td>\n",
       "      <td>25649.000000</td>\n",
       "      <td>25649.000000</td>\n",
       "    </tr>\n",
       "    <tr>\n",
       "      <th>mean</th>\n",
       "      <td>371.427424</td>\n",
       "      <td>2.194121</td>\n",
       "      <td>1.910168</td>\n",
       "      <td>131.352489</td>\n",
       "      <td>370.166595</td>\n",
       "    </tr>\n",
       "    <tr>\n",
       "      <th>std</th>\n",
       "      <td>225.426489</td>\n",
       "      <td>1.100078</td>\n",
       "      <td>0.410171</td>\n",
       "      <td>99.101622</td>\n",
       "      <td>68.489926</td>\n",
       "    </tr>\n",
       "    <tr>\n",
       "      <th>min</th>\n",
       "      <td>1.000000</td>\n",
       "      <td>1.000000</td>\n",
       "      <td>1.500000</td>\n",
       "      <td>40.000000</td>\n",
       "      <td>168.000000</td>\n",
       "    </tr>\n",
       "    <tr>\n",
       "      <th>25%</th>\n",
       "      <td>201.000000</td>\n",
       "      <td>1.000000</td>\n",
       "      <td>1.500000</td>\n",
       "      <td>40.000000</td>\n",
       "      <td>322.000000</td>\n",
       "    </tr>\n",
       "    <tr>\n",
       "      <th>50%</th>\n",
       "      <td>332.000000</td>\n",
       "      <td>2.000000</td>\n",
       "      <td>2.000000</td>\n",
       "      <td>80.000000</td>\n",
       "      <td>364.000000</td>\n",
       "    </tr>\n",
       "    <tr>\n",
       "      <th>75%</th>\n",
       "      <td>542.000000</td>\n",
       "      <td>2.000000</td>\n",
       "      <td>2.400000</td>\n",
       "      <td>120.000000</td>\n",
       "      <td>413.000000</td>\n",
       "    </tr>\n",
       "    <tr>\n",
       "      <th>max</th>\n",
       "      <td>864.000000</td>\n",
       "      <td>4.000000</td>\n",
       "      <td>2.400000</td>\n",
       "      <td>300.000000</td>\n",
       "      <td>623.000000</td>\n",
       "    </tr>\n",
       "  </tbody>\n",
       "</table>\n",
       "</div>"
      ],
      "text/plain": [
       "       Configuration Index      RAM (GB)  Processor Speeds (GHz)  \\\n",
       "count         25649.000000  25649.000000            25649.000000   \n",
       "mean            371.427424      2.194121                1.910168   \n",
       "std             225.426489      1.100078                0.410171   \n",
       "min               1.000000      1.000000                1.500000   \n",
       "25%             201.000000      1.000000                1.500000   \n",
       "50%             332.000000      2.000000                2.000000   \n",
       "75%             542.000000      2.000000                2.400000   \n",
       "max             864.000000      4.000000                2.400000   \n",
       "\n",
       "       HD Size (GB)  Retail Price  \n",
       "count  25649.000000  25649.000000  \n",
       "mean     131.352489    370.166595  \n",
       "std       99.101622     68.489926  \n",
       "min       40.000000    168.000000  \n",
       "25%       40.000000    322.000000  \n",
       "50%       80.000000    364.000000  \n",
       "75%      120.000000    413.000000  \n",
       "max      300.000000    623.000000  "
      ]
     },
     "execution_count": 3,
     "metadata": {},
     "output_type": "execute_result"
    }
   ],
   "source": [
    "sales.describe()"
   ]
  },
  {
   "cell_type": "code",
   "execution_count": 4,
   "id": "eaf529a9",
   "metadata": {},
   "outputs": [
    {
     "data": {
      "text/plain": [
       "Configuration Index       False\n",
       "RAM (GB)                  False\n",
       "Processor Speeds (GHz)    False\n",
       "Integrated Wireless       False\n",
       "HD Size (GB)              False\n",
       "Bundled Applications      False\n",
       "Retail Price              False\n",
       "dtype: bool"
      ]
     },
     "execution_count": 4,
     "metadata": {},
     "output_type": "execute_result"
    }
   ],
   "source": [
    "sales.isnull().any()"
   ]
  },
  {
   "cell_type": "code",
   "execution_count": 6,
   "id": "53a612f7",
   "metadata": {},
   "outputs": [],
   "source": [
    "x = pd.get_dummies(sales[['Configuration Index', 'RAM (GB)', 'Processor Speeds (GHz)', \n",
    "                         'Integrated Wireless', 'HD Size (GB)', 'Bundled Applications']],\n",
    "                  drop_first = True)\n",
    "\n",
    "y = sales[['Retail Price']]"
   ]
  },
  {
   "cell_type": "code",
   "execution_count": 7,
   "id": "195b9f7e",
   "metadata": {},
   "outputs": [
    {
     "data": {
      "text/plain": [
       "(25649, 6)"
      ]
     },
     "execution_count": 7,
     "metadata": {},
     "output_type": "execute_result"
    }
   ],
   "source": [
    "x.shape"
   ]
  },
  {
   "cell_type": "code",
   "execution_count": 8,
   "id": "80bea5b5",
   "metadata": {},
   "outputs": [
    {
     "data": {
      "text/plain": [
       "(25649, 1)"
      ]
     },
     "execution_count": 8,
     "metadata": {},
     "output_type": "execute_result"
    }
   ],
   "source": [
    "y.shape"
   ]
  },
  {
   "cell_type": "code",
   "execution_count": 9,
   "id": "6aeaa618",
   "metadata": {},
   "outputs": [],
   "source": [
    "# Split training and test set\n",
    "from sklearn.model_selection import train_test_split\n",
    "x_train, x_test, y_train, y_test = train_test_split(x,y, test_size = 0.2, random_state = 0)"
   ]
  },
  {
   "cell_type": "code",
   "execution_count": 10,
   "id": "bc88c39e",
   "metadata": {},
   "outputs": [],
   "source": [
    "# Define keras model\n",
    "# Keras model will create a neural network with the following layers with different number of units\n",
    "# first hidden layer has 12 nodes and uses the reLU activation function\n",
    "# second hidden layer has 8 nodes and uses the reLU activation function\n",
    "# Output layer has one node with no activation function -> since we are perfomring linear regression\n",
    "# with numerical target variable.\n",
    "\n",
    "\n"
   ]
  },
  {
   "cell_type": "code",
   "execution_count": 11,
   "id": "e5d3bb0d",
   "metadata": {},
   "outputs": [
    {
     "name": "stderr",
     "output_type": "stream",
     "text": [
      "2022-11-17 22:21:29.531152: I tensorflow/core/platform/cpu_feature_guard.cc:193] This TensorFlow binary is optimized with oneAPI Deep Neural Network Library (oneDNN) to use the following CPU instructions in performance-critical operations:  AVX2 FMA\n",
      "To enable them in other operations, rebuild TensorFlow with the appropriate compiler flags.\n"
     ]
    }
   ],
   "source": [
    "# From numpy import loadtxt\n",
    "# Use keras library\n",
    "# More layers allows model to learn more about the data\n",
    "# reLU stands for rectified linear unit\n",
    "from keras.models import Sequential\n",
    "from keras.layers import Dense"
   ]
  },
  {
   "cell_type": "code",
   "execution_count": 12,
   "id": "22eff14b",
   "metadata": {},
   "outputs": [
    {
     "name": "stderr",
     "output_type": "stream",
     "text": [
      "2022-11-17 22:21:51.036333: I tensorflow/core/platform/cpu_feature_guard.cc:193] This TensorFlow binary is optimized with oneAPI Deep Neural Network Library (oneDNN) to use the following CPU instructions in performance-critical operations:  AVX2 FMA\n",
      "To enable them in other operations, rebuild TensorFlow with the appropriate compiler flags.\n"
     ]
    }
   ],
   "source": [
    "# define the keras model\n",
    "# start neural network\n",
    "model = Sequential()"
   ]
  },
  {
   "cell_type": "code",
   "execution_count": 13,
   "id": "2277f698",
   "metadata": {},
   "outputs": [],
   "source": [
    "# add fully connected layer with a reLU activation function\n",
    "model.add(Dense(12, input_dim = 6, activation = 'relu'))\n",
    "# add fully connected layer with a reLU activation function\n",
    "model.add(Dense(8, activation = 'relu'))\n",
    "\n",
    "# define the structure of the activation function of the output layer\n",
    "model.add(Dense(1))"
   ]
  },
  {
   "cell_type": "code",
   "execution_count": 14,
   "id": "4833bbad",
   "metadata": {},
   "outputs": [],
   "source": [
    "# compile the keras model\n",
    "model.compile(loss = 'mean_squared_error', optimizer = 'RMSprop', metrics = ['mse'])"
   ]
  },
  {
   "cell_type": "code",
   "execution_count": 15,
   "id": "b4121920",
   "metadata": {},
   "outputs": [
    {
     "name": "stdout",
     "output_type": "stream",
     "text": [
      "Epoch 1/10\n",
      "2052/2052 [==============================] - 3s 1ms/step - loss: 17293.4727 - mse: 17293.4727\n",
      "Epoch 2/10\n",
      "2052/2052 [==============================] - 2s 1ms/step - loss: 8208.4980 - mse: 8208.4980\n",
      "Epoch 3/10\n",
      "2052/2052 [==============================] - 3s 1ms/step - loss: 1029.7854 - mse: 1029.7854\n",
      "Epoch 4/10\n",
      "2052/2052 [==============================] - 3s 1ms/step - loss: 809.0176 - mse: 809.0176\n",
      "Epoch 5/10\n",
      "2052/2052 [==============================] - 2s 999us/step - loss: 779.4464 - mse: 779.4464\n",
      "Epoch 6/10\n",
      "2052/2052 [==============================] - 2s 1ms/step - loss: 764.4255 - mse: 764.4255\n",
      "Epoch 7/10\n",
      "2052/2052 [==============================] - 2s 1000us/step - loss: 756.3876 - mse: 756.3876\n",
      "Epoch 8/10\n",
      "2052/2052 [==============================] - 2s 1ms/step - loss: 751.4044 - mse: 751.4043\n",
      "Epoch 9/10\n",
      "2052/2052 [==============================] - 2s 1ms/step - loss: 747.3539 - mse: 747.3539\n",
      "Epoch 10/10\n",
      "2052/2052 [==============================] - 2s 988us/step - loss: 742.5992 - mse: 742.5992\n"
     ]
    },
    {
     "data": {
      "text/plain": [
       "<keras.callbacks.History at 0x7fd49ac108b0>"
      ]
     },
     "execution_count": 15,
     "metadata": {},
     "output_type": "execute_result"
    }
   ],
   "source": [
    "# fit the keras model on the dataset\n",
    "model.fit(x_train,y_train, epochs = 10, batch_size = 10)"
   ]
  },
  {
   "cell_type": "code",
   "execution_count": 16,
   "id": "0760d766",
   "metadata": {},
   "outputs": [
    {
     "name": "stdout",
     "output_type": "stream",
     "text": [
      "161/161 [==============================] - 0s 769us/step\n"
     ]
    }
   ],
   "source": [
    "# evaluate the model\n",
    "y_test_pred = model.predict(x_test)"
   ]
  },
  {
   "cell_type": "code",
   "execution_count": 17,
   "id": "eb342041",
   "metadata": {},
   "outputs": [
    {
     "name": "stdout",
     "output_type": "stream",
     "text": [
      "Mean Squred error on Test Data: 805.8862197446624\n"
     ]
    }
   ],
   "source": [
    "# Calculate mean squared errors on test set\n",
    "from sklearn import metrics\n",
    "print('Mean Squred error on Test Data:', metrics.mean_squared_error(y_test,y_test_pred))"
   ]
  },
  {
   "cell_type": "code",
   "execution_count": 18,
   "id": "7a82092c",
   "metadata": {},
   "outputs": [
    {
     "name": "stdout",
     "output_type": "stream",
     "text": [
      "R squared on test set 0.8241874551303389\n"
     ]
    }
   ],
   "source": [
    "# Calculate r2 on the test set\n",
    "from sklearn.metrics import r2_score\n",
    "\n",
    "r_sq_test = r2_score(y_test, y_test_pred)\n",
    "print('R squared on test set', r_sq_test)\n",
    "# r2 is higher than regular linear regression -> Neural network is bettter"
   ]
  },
  {
   "cell_type": "code",
   "execution_count": null,
   "id": "138b4b15",
   "metadata": {},
   "outputs": [],
   "source": []
  }
 ],
 "metadata": {
  "kernelspec": {
   "display_name": "Python 3 (ipykernel)",
   "language": "python",
   "name": "python3"
  },
  "language_info": {
   "codemirror_mode": {
    "name": "ipython",
    "version": 3
   },
   "file_extension": ".py",
   "mimetype": "text/x-python",
   "name": "python",
   "nbconvert_exporter": "python",
   "pygments_lexer": "ipython3",
   "version": "3.9.12"
  }
 },
 "nbformat": 4,
 "nbformat_minor": 5
}
